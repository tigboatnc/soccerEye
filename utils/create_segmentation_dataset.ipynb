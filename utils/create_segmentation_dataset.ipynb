{
 "cells": [
  {
   "cell_type": "code",
   "execution_count": 15,
   "id": "fe2316fe",
   "metadata": {},
   "outputs": [],
   "source": [
    "import sys  \n",
    "import os\n",
    "from os import listdir\n",
    "from os.path import isfile, join\n",
    "from pathlib import Path\n",
    "import json\n",
    "import io\n",
    "import base64\n",
    "import numpy as np\n",
    "import PIL\n",
    "from PIL import Image\n",
    "from shapely.geometry import Polygon\n",
    "import rasterio.features\n",
    "import matplotlib.pyplot as plt\n",
    "from matplotlib.pyplot import imshow\n",
    "from tqdm import tqdm"
   ]
  },
  {
   "cell_type": "code",
   "execution_count": 8,
   "id": "7520a633",
   "metadata": {},
   "outputs": [],
   "source": [
    "def img_b64_to_arr(img_b64):\n",
    "    f = io.BytesIO()\n",
    "    f.write(base64.b64decode(img_b64))\n",
    "    img_arr = np.array(Image.open(f))\n",
    "    return img_arr"
   ]
  },
  {
   "cell_type": "code",
   "execution_count": 26,
   "id": "f4c217ca",
   "metadata": {},
   "outputs": [],
   "source": [
    "# Set a path for the dataset\n",
    "datasetLocation = (Path('../dataset/dfl-bl-annotated-frames/'))\n",
    "datasetLocation = datasetLocation.resolve()\n",
    "\n",
    "outputLocation = (Path('../dataset/dfl-bl-annotated-frames-seg/'))\n",
    "outputLocation = outputLocation.resolve()"
   ]
  },
  {
   "cell_type": "code",
   "execution_count": 10,
   "id": "b5ac50cc",
   "metadata": {},
   "outputs": [
    {
     "name": "stdout",
     "output_type": "stream",
     "text": [
      "Number of json files found: 107\n"
     ]
    }
   ],
   "source": [
    "onlyFiles = [f for f in listdir(datasetLocation) if isfile(join(datasetLocation, f))]\n",
    "jsonFiles = [f for f in onlyFiles if '.json' in f]\n",
    "print(f'Number of json files found: {len(jsonFiles)}')"
   ]
  },
  {
   "cell_type": "code",
   "execution_count": 55,
   "id": "3c224ae0",
   "metadata": {},
   "outputs": [
    {
     "name": "stderr",
     "output_type": "stream",
     "text": [
      "100%|███████████████████████████████████████████████████████████████████████| 107/107 [02:13<00:00,  1.25s/it]\n"
     ]
    }
   ],
   "source": [
    "for json_file in tqdm(jsonFiles):\n",
    "    jsonLoc = datasetLocation/json_file\n",
    "    jsonFile = open (jsonLoc, \"r\")\n",
    "    jsonFile = json.load(jsonFile)\n",
    "    \n",
    "    # Polygon for field \n",
    "    label1 = [i for i in jsonFile['shapes'] if i['label']=='1']\n",
    "    field_poly = label1[0]['points']\n",
    "\n",
    "    \n",
    "    # original image\n",
    "    im_b64 = jsonFile['imageData']\n",
    "    im_np = img_b64_to_arr(im_b64)\n",
    "    im = Image.fromarray(im_np)\n",
    "    im = im.save(str(outputLocation/'img'/jsonLoc.stem) + '.png')\n",
    "    # mask \n",
    "    poly = Polygon(field_poly)\n",
    "    im_mask_np = rasterio.features.rasterize([poly], out_shape=(im_np.shape[0],im_np.shape[1]))\n",
    "    im_mask = Image.fromarray(im_mask_np)\n",
    "    im_mask = im_mask.save(str(outputLocation/'mask'/jsonLoc.stem) + '.png')"
   ]
  },
  {
   "cell_type": "code",
   "execution_count": null,
   "id": "9a24d215",
   "metadata": {},
   "outputs": [],
   "source": []
  }
 ],
 "metadata": {
  "kernelspec": {
   "display_name": "Python 3 (ipykernel)",
   "language": "python",
   "name": "python3"
  },
  "language_info": {
   "codemirror_mode": {
    "name": "ipython",
    "version": 3
   },
   "file_extension": ".py",
   "mimetype": "text/x-python",
   "name": "python",
   "nbconvert_exporter": "python",
   "pygments_lexer": "ipython3",
   "version": "3.8.13"
  }
 },
 "nbformat": 4,
 "nbformat_minor": 5
}
