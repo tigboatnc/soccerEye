{
 "cells": [
  {
   "cell_type": "markdown",
   "id": "d20fc133-0844-4106-bda7-0629796c6513",
   "metadata": {
    "tags": []
   },
   "source": [
    "# Create Image Chops \n",
    "\n",
    "> Given a folder of mp4 footage(traditionally used for storing soccer footage) this notebook generates parametric random chops from the video \n",
    "\n",
    "\n",
    "- Used for creation of image segmentation and object detection dataset \n",
    "- Preprocessor to labelling part of pipeline"
   ]
  },
  {
   "cell_type": "code",
   "execution_count": null,
   "id": "0bb3e88d-574f-446d-91df-1b4282722a9d",
   "metadata": {},
   "outputs": [],
   "source": []
  }
 ],
 "metadata": {
  "kernelspec": {
   "display_name": "Python 3 (ipykernel)",
   "language": "python",
   "name": "python3"
  },
  "language_info": {
   "codemirror_mode": {
    "name": "ipython",
    "version": 3
   },
   "file_extension": ".py",
   "mimetype": "text/x-python",
   "name": "python",
   "nbconvert_exporter": "python",
   "pygments_lexer": "ipython3",
   "version": "3.8.13"
  }
 },
 "nbformat": 4,
 "nbformat_minor": 5
}
