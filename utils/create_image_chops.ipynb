{
 "cells": [
  {
   "cell_type": "markdown",
   "id": "d20fc133-0844-4106-bda7-0629796c6513",
   "metadata": {
    "tags": []
   },
   "source": [
    "# Create Image Chops \n",
    "\n",
    "> Given a folder of mp4 footage(traditionally used for storing soccer footage) this notebook generates parametric random chops from the video \n",
    "\n",
    "\n",
    "- Used for creation of image segmentation and object detection dataset \n",
    "- Preprocessor to labelling part of pipeline"
   ]
  },
  {
   "cell_type": "code",
   "execution_count": 41,
   "id": "0bb3e88d-574f-446d-91df-1b4282722a9d",
   "metadata": {},
   "outputs": [],
   "source": [
    "import cv2\n",
    "import numpy as np\n",
    "from matplotlib.pyplot import imshow\n",
    "import glob, os\n",
    "import time\n",
    "from pathlib import Path"
   ]
  },
  {
   "cell_type": "code",
   "execution_count": 50,
   "id": "80b924ab-fab7-4021-9f37-5762cab25510",
   "metadata": {},
   "outputs": [],
   "source": [
    "# Set Dataset Path\n",
    "inputLoc = Path('../datasets/dfl-bl/')\n",
    "inputLoc = inputLoc.resolve()\n",
    "\n",
    "outputLoc = Path('../datasets/dfl-bl-obj/')\n",
    "outputLoc = outputLoc.resolve()\n",
    "    \n",
    "chopsPerVid = 40 "
   ]
  },
  {
   "cell_type": "code",
   "execution_count": 51,
   "id": "0d0592f7-de00-49b4-a7ed-64f2b0f55a11",
   "metadata": {},
   "outputs": [],
   "source": [
    "def searching_all_files(directory: Path):   \n",
    "    file_list = [] # A list for storing files existing in directories\n",
    "\n",
    "    for x in directory.iterdir():\n",
    "        if x.is_file():\n",
    "\n",
    "           file_list.append(x)\n",
    "        else:\n",
    "\n",
    "           file_list.append(searching_all_files(directory/x))\n",
    "\n",
    "    return file_list"
   ]
  },
  {
   "cell_type": "code",
   "execution_count": 52,
   "id": "922b04b6-ecf3-4890-817c-5794861f6bb5",
   "metadata": {},
   "outputs": [],
   "source": [
    "files = searching_all_files(inputLoc)"
   ]
  },
  {
   "cell_type": "code",
   "execution_count": 67,
   "id": "9a5e91e9-4b51-43ea-accc-fa21c6ea5924",
   "metadata": {},
   "outputs": [
    {
     "name": "stdout",
     "output_type": "stream",
     "text": [
      "Found a vid, 1606b0e6_0, processing\n",
      "Found a vid, 1606b0e6_1, processing\n",
      "Found a vid, 35bd9041_0, processing\n",
      "Found a vid, 3c993bd2_0, processing\n",
      "Found a vid, 407c5a9e_1, processing\n",
      "Found a vid, 4ffd5986_0, processing\n",
      "Found a vid, cfbe2e94_0, processing\n",
      "Found a vid, ecf251d4_0, processing\n"
     ]
    }
   ],
   "source": [
    "for vid in files:\n",
    "    if '.mp4' in str(vid):\n",
    "        print(f'Found a vid, {vid.stem}, processing')\n",
    "        \n",
    "        cap = cv2.VideoCapture(str(vid))\n",
    "        total_frames = cap.get(7)\n",
    "        \n",
    "        FILESTEM = vid.stem\n",
    "        \n",
    "        for chopNo in range(chopsPerVid):\n",
    "            chop = np.random.randint(total_frames)\n",
    "            cap.set(1, chop)\n",
    "            ret, frame = cap.read()\n",
    "            \n",
    "            cv2.imwrite(str(outputLoc / str(FILESTEM  + f'_{chopNo}.png')),frame)            \n",
    "            \n",
    "        \n",
    "        "
   ]
  }
 ],
 "metadata": {
  "kernelspec": {
   "display_name": "Python 3 (ipykernel)",
   "language": "python",
   "name": "python3"
  },
  "language_info": {
   "codemirror_mode": {
    "name": "ipython",
    "version": 3
   },
   "file_extension": ".py",
   "mimetype": "text/x-python",
   "name": "python",
   "nbconvert_exporter": "python",
   "pygments_lexer": "ipython3",
   "version": "3.8.13"
  }
 },
 "nbformat": 4,
 "nbformat_minor": 5
}
