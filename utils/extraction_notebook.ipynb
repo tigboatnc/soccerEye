{
 "cells": [
  {
   "cell_type": "code",
   "execution_count": 1,
   "id": "0fb4fdf6",
   "metadata": {},
   "outputs": [],
   "source": [
    "import cv2\n",
    "import numpy as np\n",
    "from matplotlib.pyplot import imshow\n",
    "import glob, os\n",
    "import time"
   ]
  },
  {
   "cell_type": "code",
   "execution_count": 2,
   "id": "7722c298",
   "metadata": {},
   "outputs": [],
   "source": [
    "\n"
   ]
  },
  {
   "cell_type": "code",
   "execution_count": 3,
   "id": "f032d96b",
   "metadata": {},
   "outputs": [
    {
     "name": "stdout",
     "output_type": "stream",
     "text": [
      "extraction_notebook.ipynb  \u001b[34mop\u001b[m\u001b[m/\r\n"
     ]
    }
   ],
   "source": [
    "ls"
   ]
  },
  {
   "cell_type": "code",
   "execution_count": 4,
   "id": "e37b1cb9",
   "metadata": {},
   "outputs": [],
   "source": [
    "import time"
   ]
  },
  {
   "cell_type": "code",
   "execution_count": 6,
   "id": "4ecbee70",
   "metadata": {},
   "outputs": [],
   "source": [
    "for file in glob.glob(\"./ds/*\"):\n",
    "    print(file)"
   ]
  },
  {
   "cell_type": "code",
   "execution_count": 69,
   "id": "c64a3333",
   "metadata": {},
   "outputs": [
    {
     "name": "stdout",
     "output_type": "stream",
     "text": [
      "File Downloading\n",
      "File Downloading\n",
      "File Downloading\n",
      "File Downloading\n",
      "File Downloading\n",
      "File Downloading\n",
      "File Downloading\n",
      "File Downloading\n",
      "File Downloading\n",
      "File Downloading\n",
      "File Downloading\n",
      "File Downloading\n",
      "File Downloading\n",
      "File Downloading\n",
      "File Downloading\n",
      "File Downloading\n",
      "File Downloading\n",
      "File Downloading\n",
      "File Downloading\n",
      "File Downloading\n",
      "File Downloading\n",
      "File Downloading\n",
      "File Downloading\n",
      "File Downloading\n"
     ]
    }
   ],
   "source": [
    "# Find File \n",
    "files = []\n",
    "for file in glob.glob(\"./ds/*\"):\n",
    "    \n",
    "    fileSplit = file.split('.')\n",
    "    if file.split('.')[2] !='webm':\n",
    "        print('File Downloading')\n",
    "    else: \n",
    "        files.append(file)\n",
    "\n",
    "for filePick in files:\n",
    "\n",
    "    cap = cv2.VideoCapture(filePick)\n",
    "\n",
    "    print('---------File Read')\n",
    "    OPKEY = filePick.split('[')[1].split(']')[0]\n",
    "    print(f'OPKEY: {OPKEY}')\n",
    "    \n",
    "    \n",
    "    print('Picking and Saving Frames')\n",
    "    cap = cv2.VideoCapture(filePick)\n",
    "    \n",
    "    total_frames = cap.get(7)\n",
    "    print(f'Total Frames in Video: {total_frames}')\n",
    "\n",
    "    for i in range(30):\n",
    "        framePick = np.random.randint(total_frames)\n",
    "        \n",
    "        # Display Random Frame \n",
    "        if framePick < int(total_frames):\n",
    "            cap.set(1, framePick)\n",
    "            ret, frame = cap.read()\n",
    "#             imshow(frame)\n",
    "        else:\n",
    "            print('Frame Number selected larger than max frame')\n",
    "        \n",
    "        cv2.imwrite(f'op/{OPKEY}_{i}.png',frame)\n",
    "\n",
    "    \n",
    "    os.remove(filePick)\n",
    "    print('---------File Deleted')\n",
    "    print('\\n')\n",
    "    time.sleep(2)\n"
   ]
  },
  {
   "cell_type": "markdown",
   "id": "b92cba87",
   "metadata": {},
   "source": [
    "--------"
   ]
  },
  {
   "cell_type": "code",
   "execution_count": 12,
   "id": "48fb30c9",
   "metadata": {},
   "outputs": [
    {
     "name": "stdout",
     "output_type": "stream",
     "text": [
      "./ds-bl/1606b0e6_1.mp4\n",
      "./ds-bl/1606b0e6_0.mp4\n",
      "./ds-bl/35bd9041_1.mp4\n",
      "./ds-bl/35bd9041_0.mp4\n"
     ]
    }
   ],
   "source": [
    "files = []\n",
    "for file in glob.glob(\"./ds-bl/*\"):\n",
    "    print(file)\n",
    "    \n",
    "for file in glob.glob(\"./ds-bl/*\"):\n",
    "    files.append(file)"
   ]
  },
  {
   "cell_type": "code",
   "execution_count": 20,
   "id": "4770644c",
   "metadata": {},
   "outputs": [],
   "source": [
    "for filePick in files:\n",
    "    OPKEY = 'bl_'+filePick.split('/')[2].split('.')[0]\n"
   ]
  },
  {
   "cell_type": "code",
   "execution_count": 21,
   "id": "432d946b",
   "metadata": {},
   "outputs": [
    {
     "data": {
      "text/plain": [
       "'bl_35bd9041_0'"
      ]
     },
     "execution_count": 21,
     "metadata": {},
     "output_type": "execute_result"
    }
   ],
   "source": [
    "OPKEY"
   ]
  },
  {
   "cell_type": "code",
   "execution_count": 25,
   "id": "9815f121",
   "metadata": {},
   "outputs": [
    {
     "name": "stdout",
     "output_type": "stream",
     "text": [
      "---------File Read\n",
      "OPKEY: bl_cfbe2e94_1\n",
      "Picking and Saving Frames\n",
      "Total Frames in Video: 89925.0\n",
      "---------File Deleted\n",
      "\n",
      "\n",
      "---------File Read\n",
      "OPKEY: bl_cfbe2e94_0\n",
      "Picking and Saving Frames\n",
      "Total Frames in Video: 90500.0\n",
      "---------File Deleted\n",
      "\n",
      "\n",
      "---------File Read\n",
      "OPKEY: bl_ecf251d4_0\n",
      "Picking and Saving Frames\n",
      "Total Frames in Video: 85500.0\n",
      "---------File Deleted\n",
      "\n",
      "\n"
     ]
    }
   ],
   "source": [
    "# Find File \n",
    "files = []\n",
    "for file in glob.glob(\"./ds-bl/*\"):\n",
    "    files.append(file)\n",
    "\n",
    "for filePick in files:\n",
    "\n",
    "    cap = cv2.VideoCapture(filePick)\n",
    "\n",
    "    print('---------File Read')\n",
    "    OPKEY = 'bl_'+filePick.split('/')[2].split('.')[0]\n",
    "    print(f'OPKEY: {OPKEY}')\n",
    "    \n",
    "    \n",
    "    print('Picking and Saving Frames')\n",
    "    cap = cv2.VideoCapture(filePick)\n",
    "    \n",
    "    total_frames = cap.get(7)\n",
    "    print(f'Total Frames in Video: {total_frames}')\n",
    "\n",
    "    for i in range(100):\n",
    "        framePick = np.random.randint(total_frames)\n",
    "        \n",
    "        # Display Random Frame \n",
    "        if framePick < int(total_frames):\n",
    "            cap.set(1, framePick)\n",
    "            ret, frame = cap.read()\n",
    "#             imshow(frame)\n",
    "        else:\n",
    "            print('Frame Number selected larger than max frame')\n",
    "        \n",
    "        cv2.imwrite(f'op2/{OPKEY}_{i}.png',frame)\n",
    "\n",
    "    \n",
    "    os.remove(filePick)\n",
    "    print('---------File Deleted')\n",
    "    print('\\n')\n",
    "    time.sleep(2)\n",
    "\n"
   ]
  },
  {
   "cell_type": "markdown",
   "id": "02c6f6f7",
   "metadata": {},
   "source": [
    "# Creating Splits for ds-bl database "
   ]
  },
  {
   "cell_type": "code",
   "execution_count": 1,
   "id": "6bd2a773",
   "metadata": {},
   "outputs": [],
   "source": [
    "import cv2\n",
    "import numpy as np\n",
    "from matplotlib.pyplot import imshow\n",
    "import glob, os\n",
    "import time"
   ]
  },
  {
   "cell_type": "code",
   "execution_count": 6,
   "id": "2a745b70",
   "metadata": {},
   "outputs": [],
   "source": [
    "# Find File \n",
    "files = []\n",
    "for file in glob.glob(\"../dataset/df-bl/*\"):\n",
    "    files.append(file)"
   ]
  },
  {
   "cell_type": "code",
   "execution_count": 7,
   "id": "9d394b97",
   "metadata": {},
   "outputs": [
    {
     "data": {
      "text/plain": [
       "['../dataset/df-bl/1606b0e6_0.mp4',\n",
       " '../dataset/df-bl/1606b0e6_1.mp4',\n",
       " '../dataset/df-bl/35bd9041_0.mp4',\n",
       " '../dataset/df-bl/35bd9041_1.mp4',\n",
       " '../dataset/df-bl/3c993bd2_0.mp4',\n",
       " '../dataset/df-bl/3c993bd2_1.mp4',\n",
       " '../dataset/df-bl/407c5a9e_1.mp4',\n",
       " '../dataset/df-bl/4ffd5986_0.mp4',\n",
       " '../dataset/df-bl/9a97dae4_1.mp4',\n",
       " '../dataset/df-bl/cfbe2e94_0.mp4',\n",
       " '../dataset/df-bl/cfbe2e94_1.mp4',\n",
       " '../dataset/df-bl/ecf251d4_0.mp4']"
      ]
     },
     "execution_count": 7,
     "metadata": {},
     "output_type": "execute_result"
    }
   ],
   "source": [
    "files"
   ]
  },
  {
   "cell_type": "code",
   "execution_count": 12,
   "id": "8631aef9",
   "metadata": {},
   "outputs": [
    {
     "name": "stdout",
     "output_type": "stream",
     "text": [
      "---------File Read\n",
      "OPKEY: bl_1606b0e6_0\n",
      "Picking and Saving Frames\n",
      "Total Frames in Video: 85915.0\n",
      "---------File Deleted\n",
      "\n",
      "\n",
      "---------File Read\n",
      "OPKEY: bl_1606b0e6_1\n",
      "Picking and Saving Frames\n",
      "Total Frames in Video: 85138.0\n",
      "---------File Deleted\n",
      "\n",
      "\n",
      "---------File Read\n",
      "OPKEY: bl_35bd9041_0\n",
      "Picking and Saving Frames\n",
      "Total Frames in Video: 88653.0\n",
      "---------File Deleted\n",
      "\n",
      "\n",
      "---------File Read\n",
      "OPKEY: bl_35bd9041_1\n",
      "Picking and Saving Frames\n",
      "Total Frames in Video: 87732.0\n",
      "---------File Deleted\n",
      "\n",
      "\n",
      "---------File Read\n",
      "OPKEY: bl_3c993bd2_0\n",
      "Picking and Saving Frames\n",
      "Total Frames in Video: 89750.0\n",
      "---------File Deleted\n",
      "\n",
      "\n",
      "---------File Read\n",
      "OPKEY: bl_3c993bd2_1\n",
      "Picking and Saving Frames\n",
      "Total Frames in Video: 88760.0\n",
      "---------File Deleted\n",
      "\n",
      "\n",
      "---------File Read\n",
      "OPKEY: bl_407c5a9e_1\n",
      "Picking and Saving Frames\n",
      "Total Frames in Video: 87058.0\n",
      "---------File Deleted\n",
      "\n",
      "\n",
      "---------File Read\n",
      "OPKEY: bl_4ffd5986_0\n",
      "Picking and Saving Frames\n",
      "Total Frames in Video: 87620.0\n",
      "---------File Deleted\n",
      "\n",
      "\n",
      "---------File Read\n",
      "OPKEY: bl_9a97dae4_1\n",
      "Picking and Saving Frames\n",
      "Total Frames in Video: 83513.0\n",
      "---------File Deleted\n",
      "\n",
      "\n",
      "---------File Read\n",
      "OPKEY: bl_cfbe2e94_0\n",
      "Picking and Saving Frames\n",
      "Total Frames in Video: 90500.0\n",
      "---------File Deleted\n",
      "\n",
      "\n",
      "---------File Read\n",
      "OPKEY: bl_cfbe2e94_1\n",
      "Picking and Saving Frames\n",
      "Total Frames in Video: 89925.0\n",
      "---------File Deleted\n",
      "\n",
      "\n",
      "---------File Read\n",
      "OPKEY: bl_ecf251d4_0\n",
      "Picking and Saving Frames\n",
      "Total Frames in Video: 85500.0\n",
      "---------File Deleted\n",
      "\n",
      "\n"
     ]
    }
   ],
   "source": [
    "# Find File \n",
    "# Find File \n",
    "files = []\n",
    "for file in glob.glob(\"../dataset/df-bl/*\"):\n",
    "    files.append(file)\n",
    "for filePick in files:\n",
    "\n",
    "    cap = cv2.VideoCapture(filePick)\n",
    "\n",
    "    print('---------File Read')\n",
    "    OPKEY = 'bl_'+filePick.split('/')[3].split('.')[0]\n",
    "    print(f'OPKEY: {OPKEY}')\n",
    "    \n",
    "    \n",
    "    print('Picking and Saving Frames')\n",
    "    cap = cv2.VideoCapture(filePick)\n",
    "    \n",
    "    total_frames = cap.get(7)\n",
    "    print(f'Total Frames in Video: {total_frames}')\n",
    "\n",
    "    for i in range(200):\n",
    "        framePick = np.random.randint(total_frames)\n",
    "        \n",
    "        # Display Random Frame \n",
    "        if framePick < int(total_frames):\n",
    "            cap.set(1, framePick)\n",
    "            ret, frame = cap.read()\n",
    "#             imshow(frame)\n",
    "        else:\n",
    "            print('Frame Number selected larger than max frame')\n",
    "        \n",
    "        cv2.imwrite(f'../dataset/df-bl-annotated-v2/{OPKEY}_{i}.png',frame)\n",
    "\n",
    "    \n",
    "#     os.remove(filePick)\n",
    "    print('---------File Deleted')\n",
    "    print('\\n')\n",
    "    time.sleep(2)\n",
    "\n"
   ]
  },
  {
   "cell_type": "code",
   "execution_count": null,
   "id": "5a01adab",
   "metadata": {},
   "outputs": [],
   "source": []
  }
 ],
 "metadata": {
  "kernelspec": {
   "display_name": "Python 3 (ipykernel)",
   "language": "python",
   "name": "python3"
  },
  "language_info": {
   "codemirror_mode": {
    "name": "ipython",
    "version": 3
   },
   "file_extension": ".py",
   "mimetype": "text/x-python",
   "name": "python",
   "nbconvert_exporter": "python",
   "pygments_lexer": "ipython3",
   "version": "3.8.13"
  }
 },
 "nbformat": 4,
 "nbformat_minor": 5
}
