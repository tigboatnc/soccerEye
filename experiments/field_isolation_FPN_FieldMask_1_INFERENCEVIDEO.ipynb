{
 "cells": [
  {
   "cell_type": "code",
   "execution_count": 2,
   "id": "a5b220dc-055d-4657-9a3c-d6c28796af15",
   "metadata": {},
   "outputs": [],
   "source": [
    "# # pytorch \n",
    "# ! pip3 install torch torchvision torchaudio\n",
    "\n",
    "# # segmentation dependencies \n",
    "# !pip install segmentation-models-pytorch\n",
    "# !pip install pytorch-lightning\n",
    "# !pip install pandas \n",
    "# !pip install rasterio"
   ]
  },
  {
   "cell_type": "code",
   "execution_count": 1,
   "id": "3f3954f4-a4c0-428e-8137-2d92ff2f3e13",
   "metadata": {},
   "outputs": [],
   "source": [
    "\n",
    "import torch\n",
    "import numpy as np\n",
    "import PIL\n",
    "from tqdm import tqdm\n",
    "from PIL import Image\n",
    "import pytorch_lightning as pl\n",
    "import segmentation_models_pytorch as smp\n",
    "from matplotlib import pyplot as plt\n",
    "import sys  \n",
    "import os\n",
    "from pathlib import Path\n",
    "from matplotlib.pyplot import imshow\n",
    "from matplotlib import pyplot as plt\n",
    "import numpy as np\n",
    "\n",
    "# Set Root Directory\n",
    "root = Path('/mnt/c/Users/Samarth Negi/Desktop/soccerEye')\n",
    "sys.path.insert(0, str(root))\n",
    "\n",
    "\n",
    "from IPython.display import Video\n",
    "import cv2\n",
    "import methods \n",
    "import utils\n"
   ]
  },
  {
   "cell_type": "code",
   "execution_count": 2,
   "id": "cd5af358-cbe1-4a30-8a89-11dc2205bfaa",
   "metadata": {},
   "outputs": [
    {
     "name": "stdout",
     "output_type": "stream",
     "text": [
      "Dataset Location : /mnt/c/Users/Samarth Negi/Desktop/soccerEye/dataset/df-bl\n",
      "Number of files in dataset : 12\n"
     ]
    }
   ],
   "source": [
    "# Set Dataset Path\n",
    "dataset = Path('../dataset/df-bl/')\n",
    "dataset = dataset.resolve()\n",
    "print(f'Dataset Location : {dataset}')\n",
    "dataset_files = utils.util_searching_all_files(dataset)\n",
    "print(f'Number of files in dataset : {len(dataset_files)}')"
   ]
  },
  {
   "cell_type": "code",
   "execution_count": 3,
   "id": "779e711e-5de5-4916-a8b3-390e5ad85bf2",
   "metadata": {},
   "outputs": [
    {
     "name": "stdout",
     "output_type": "stream",
     "text": [
      "Video Picked (index) : 3\n"
     ]
    }
   ],
   "source": [
    "videoPick = np.random.randint(len(dataset_files))\n",
    "print(f'Video Picked (index) : {videoPick}')\n",
    "cap = cv2.VideoCapture(str(dataset_files[videoPick]))"
   ]
  },
  {
   "cell_type": "code",
   "execution_count": 4,
   "id": "0b9d765c-af04-42e6-9a0c-e9ef34d8457b",
   "metadata": {},
   "outputs": [
    {
     "name": "stdout",
     "output_type": "stream",
     "text": [
      "87732.0\n"
     ]
    }
   ],
   "source": [
    "total_frames = cap.get(7)\n",
    "print(total_frames)"
   ]
  },
  {
   "cell_type": "code",
   "execution_count": 77,
   "id": "9d267206-6ef2-4ca5-8a90-a88d5c5cfcc9",
   "metadata": {},
   "outputs": [],
   "source": [
    "skip = 1000"
   ]
  },
  {
   "cell_type": "code",
   "execution_count": 78,
   "id": "d14c5420-8b47-4448-b104-d829f2c312b0",
   "metadata": {},
   "outputs": [
    {
     "name": "stderr",
     "output_type": "stream",
     "text": [
      "100%|███████████████████████████████████████████████████████████████████████████████████| 88/88 [00:34<00:00,  2.54it/s]\n"
     ]
    }
   ],
   "source": [
    "FRAMELIST = []\n",
    "for framePick in tqdm(range(0,int(total_frames),skip)):\n",
    "    cap.set(1, framePick)\n",
    "    ret, frame = cap.read()\n",
    "    \n",
    "    img = cv2.cvtColor(frame, cv2.COLOR_BGR2RGB)\n",
    "    im_pil = Image.fromarray(img)\n",
    "\n",
    "    \n",
    "    FRAMELIST.append(im_pil)"
   ]
  },
  {
   "cell_type": "code",
   "execution_count": 79,
   "id": "33422146-29cb-4d82-bb3b-2791385e6e81",
   "metadata": {},
   "outputs": [],
   "source": [
    "OUTFRAMES = methods.P_IF_4_FPN(FRAMELIST,\n",
    "                      '../weights/FPN_FieldMask_1/checkpoints/epoch=49-step=600.ckpt',\n",
    "                      inputType='list' )"
   ]
  },
  {
   "cell_type": "code",
   "execution_count": 80,
   "id": "d48997d3-576c-4cf9-9404-5ea5f53d140f",
   "metadata": {},
   "outputs": [],
   "source": [
    "FINAL = []\n",
    "\n",
    "for ind,FRAME in enumerate(FRAMELIST):\n",
    "    \n",
    "    frame_np = np.asarray(FRAME)    \n",
    "    frame_np_r = cv2.resize(frame_np, (256,256), interpolation = cv2.INTER_AREA)\n",
    "    \n",
    "    outframe_normal = cv2.normalize(OUTFRAMES[ind], None, 0, 255, cv2.NORM_MINMAX, cv2.CV_8U)\n",
    "    outframe_normal_rgb = cv2.cvtColor(outframe_normal, cv2.COLOR_GRAY2BGR)\n",
    "    \n",
    "    final_output = np.concatenate([frame_np_r,outframe_normal_rgb],axis=1)\n",
    "    \n",
    "    FINAL.append(final_output)"
   ]
  },
  {
   "cell_type": "code",
   "execution_count": 81,
   "id": "a56320d3-707f-434f-a9a3-fe187702e733",
   "metadata": {},
   "outputs": [],
   "source": [
    "w = FINAL[0].shape[1]\n",
    "h = FINAL[0].shape[0]"
   ]
  },
  {
   "cell_type": "code",
   "execution_count": 82,
   "id": "89e71aa3-7780-429e-9ee6-1efada8a4e1f",
   "metadata": {},
   "outputs": [],
   "source": [
    "out = cv2.VideoWriter('output.mp4', cv2.VideoWriter_fourcc(*'mp4v'), 10, (w,h))"
   ]
  },
  {
   "cell_type": "code",
   "execution_count": 83,
   "id": "b93c93bb-a62d-4a9d-a838-9f6a3758d8d8",
   "metadata": {},
   "outputs": [],
   "source": [
    "out = cv2.VideoWriter('output.avi',cv2.VideoWriter_fourcc('M','J','P','G'), 10, (w,h))"
   ]
  },
  {
   "cell_type": "code",
   "execution_count": 84,
   "id": "ccf3555d-a506-4cc2-94a8-5ce5ed3ae24d",
   "metadata": {},
   "outputs": [],
   "source": [
    "for framePick in FINAL:\n",
    "    out.write(framePick)"
   ]
  },
  {
   "cell_type": "code",
   "execution_count": 85,
   "id": "e3603a4b-615b-4f4d-8415-d2b280ddc009",
   "metadata": {},
   "outputs": [],
   "source": [
    "out.release()"
   ]
  },
  {
   "cell_type": "code",
   "execution_count": null,
   "id": "e9282c47-631f-4248-ad8d-ed306509c137",
   "metadata": {},
   "outputs": [],
   "source": []
  }
 ],
 "metadata": {
  "kernelspec": {
   "display_name": "Python 3 (ipykernel)",
   "language": "python",
   "name": "python3"
  },
  "language_info": {
   "codemirror_mode": {
    "name": "ipython",
    "version": 3
   },
   "file_extension": ".py",
   "mimetype": "text/x-python",
   "name": "python",
   "nbconvert_exporter": "python",
   "pygments_lexer": "ipython3",
   "version": "3.8.13"
  }
 },
 "nbformat": 4,
 "nbformat_minor": 5
}
